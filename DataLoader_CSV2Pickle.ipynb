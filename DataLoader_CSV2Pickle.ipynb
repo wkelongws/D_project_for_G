{
 "cells": [
  {
   "cell_type": "code",
   "execution_count": 29,
   "metadata": {
    "collapsed": true
   },
   "outputs": [],
   "source": [
    "import pickle\n",
    "import numpy as np\n",
    "import pandas as pd\n",
    "import csv\n",
    "\n",
    "which_data = 'Data_2016_DES_I235E'"
   ]
  },
  {
   "cell_type": "code",
   "execution_count": 30,
   "metadata": {},
   "outputs": [],
   "source": [
    "def load_data(data,datafolder='../data/'+which_data+'/'):\n",
    "    X_train = np.zeros((len(data),15,288,10))\n",
    "    y_train = np.zeros((len(data),15,1440,3))\n",
    "    for i in range(len(data)):\n",
    "        with open(datafolder+'CSVs/'+data['X'][i], 'r') as f:\n",
    "            X = list(csv.reader(f, delimiter=\",\"))\n",
    "            X = np.asarray(X)\n",
    "            channels = np.unique(X[:,0])\n",
    "            for channel in channels:\n",
    "                index=X[:,0] == channel\n",
    "                X_train[i,:,:,int(channel)] = X[index,1:]\n",
    "        with open(datafolder+'Traffic_CSVs/'+data['y'][i], 'r') as f:\n",
    "            y = list(csv.reader(f, delimiter=\",\"))\n",
    "            y = np.asarray(y)\n",
    "            channels = np.unique(y[:,0])\n",
    "            for channel in channels:\n",
    "                index=y[:,0] == channel\n",
    "                y_train[i,:,:,int(channel)] = y[index,1:]\n",
    "#             index=y[:,0] == '0'\n",
    "#             y_train[i,:,:,0] = y[index,1:]\n",
    "    return X_train,y_train"
   ]
  },
  {
   "cell_type": "code",
   "execution_count": 31,
   "metadata": {
    "collapsed": true
   },
   "outputs": [],
   "source": [
    "def convert_zero_2_mean(y_train):\n",
    "    y_train[y_train==0] = np.nan\n",
    "    avg = np.nanmean(y_train, axis=0)\n",
    "    arrays = [avg for _ in range(y_train.shape[0])]\n",
    "    AVG = np.stack(arrays, axis=0)\n",
    "    index = np.isnan(y_train)\n",
    "    y_train[index] = AVG[index]\n",
    "    y_train[np.isnan(y_train)] = np.nanmean(y_train)\n",
    "    return y_train"
   ]
  },
  {
   "cell_type": "code",
   "execution_count": 32,
   "metadata": {},
   "outputs": [
    {
     "ename": "FileNotFoundError",
     "evalue": "[Errno 2] No such file or directory: '../data/Data_2016_I235E/CSVs/20160101Dir1.csv'",
     "output_type": "error",
     "traceback": [
      "\u001b[0;31m---------------------------------------------------------------------------\u001b[0m",
      "\u001b[0;31mFileNotFoundError\u001b[0m                         Traceback (most recent call last)",
      "\u001b[0;32m<ipython-input-32-4d15c979f624>\u001b[0m in \u001b[0;36m<module>\u001b[0;34m()\u001b[0m\n\u001b[1;32m      1\u001b[0m \u001b[0mdata\u001b[0m \u001b[0;34m=\u001b[0m \u001b[0mpd\u001b[0m\u001b[0;34m.\u001b[0m\u001b[0mread_csv\u001b[0m\u001b[0;34m(\u001b[0m\u001b[0;34m'../data/'\u001b[0m\u001b[0;34m+\u001b[0m\u001b[0mwhich_data\u001b[0m\u001b[0;34m+\u001b[0m\u001b[0;34m'.csv'\u001b[0m\u001b[0;34m,\u001b[0m\u001b[0mdelimiter\u001b[0m\u001b[0;34m=\u001b[0m\u001b[0;34m','\u001b[0m\u001b[0;34m)\u001b[0m\u001b[0;34m\u001b[0m\u001b[0m\n\u001b[0;32m----> 2\u001b[0;31m \u001b[0m_\u001b[0m\u001b[0;34m,\u001b[0m\u001b[0mTraffic\u001b[0m \u001b[0;34m=\u001b[0m \u001b[0mload_data\u001b[0m\u001b[0;34m(\u001b[0m\u001b[0mdata\u001b[0m\u001b[0;34m)\u001b[0m\u001b[0;34m\u001b[0m\u001b[0m\n\u001b[0m\u001b[1;32m      3\u001b[0m \u001b[0mTraffic\u001b[0m \u001b[0;34m=\u001b[0m \u001b[0mnp\u001b[0m\u001b[0;34m.\u001b[0m\u001b[0mswapaxes\u001b[0m\u001b[0;34m(\u001b[0m\u001b[0mTraffic\u001b[0m\u001b[0;34m,\u001b[0m\u001b[0;36m1\u001b[0m\u001b[0;34m,\u001b[0m\u001b[0;36m2\u001b[0m\u001b[0;34m)\u001b[0m\u001b[0;34m\u001b[0m\u001b[0m\n\u001b[1;32m      4\u001b[0m \u001b[0mRaw_Speed\u001b[0m \u001b[0;34m=\u001b[0m \u001b[0mTraffic\u001b[0m\u001b[0;34m[\u001b[0m\u001b[0;34m:\u001b[0m\u001b[0;34m,\u001b[0m\u001b[0;34m:\u001b[0m\u001b[0;34m,\u001b[0m\u001b[0;34m:\u001b[0m\u001b[0;34m,\u001b[0m\u001b[0;36m0\u001b[0m\u001b[0;34m]\u001b[0m\u001b[0;34m\u001b[0m\u001b[0m\n\u001b[1;32m      5\u001b[0m \u001b[0mSpeed\u001b[0m \u001b[0;34m=\u001b[0m \u001b[0mconvert_zero_2_mean\u001b[0m\u001b[0;34m(\u001b[0m\u001b[0mRaw_Speed\u001b[0m\u001b[0;34m)\u001b[0m\u001b[0;34m\u001b[0m\u001b[0m\n",
      "\u001b[0;32m<ipython-input-30-30b7c37c518b>\u001b[0m in \u001b[0;36mload_data\u001b[0;34m(data, datafolder)\u001b[0m\n\u001b[1;32m      3\u001b[0m     \u001b[0my_train\u001b[0m \u001b[0;34m=\u001b[0m \u001b[0mnp\u001b[0m\u001b[0;34m.\u001b[0m\u001b[0mzeros\u001b[0m\u001b[0;34m(\u001b[0m\u001b[0;34m(\u001b[0m\u001b[0mlen\u001b[0m\u001b[0;34m(\u001b[0m\u001b[0mdata\u001b[0m\u001b[0;34m)\u001b[0m\u001b[0;34m,\u001b[0m\u001b[0;36m15\u001b[0m\u001b[0;34m,\u001b[0m\u001b[0;36m1440\u001b[0m\u001b[0;34m,\u001b[0m\u001b[0;36m3\u001b[0m\u001b[0;34m)\u001b[0m\u001b[0;34m)\u001b[0m\u001b[0;34m\u001b[0m\u001b[0m\n\u001b[1;32m      4\u001b[0m     \u001b[0;32mfor\u001b[0m \u001b[0mi\u001b[0m \u001b[0;32min\u001b[0m \u001b[0mrange\u001b[0m\u001b[0;34m(\u001b[0m\u001b[0mlen\u001b[0m\u001b[0;34m(\u001b[0m\u001b[0mdata\u001b[0m\u001b[0;34m)\u001b[0m\u001b[0;34m)\u001b[0m\u001b[0;34m:\u001b[0m\u001b[0;34m\u001b[0m\u001b[0m\n\u001b[0;32m----> 5\u001b[0;31m         \u001b[0;32mwith\u001b[0m \u001b[0mopen\u001b[0m\u001b[0;34m(\u001b[0m\u001b[0mdatafolder\u001b[0m\u001b[0;34m+\u001b[0m\u001b[0;34m'CSVs/'\u001b[0m\u001b[0;34m+\u001b[0m\u001b[0mdata\u001b[0m\u001b[0;34m[\u001b[0m\u001b[0;34m'X'\u001b[0m\u001b[0;34m]\u001b[0m\u001b[0;34m[\u001b[0m\u001b[0mi\u001b[0m\u001b[0;34m]\u001b[0m\u001b[0;34m,\u001b[0m \u001b[0;34m'r'\u001b[0m\u001b[0;34m)\u001b[0m \u001b[0;32mas\u001b[0m \u001b[0mf\u001b[0m\u001b[0;34m:\u001b[0m\u001b[0;34m\u001b[0m\u001b[0m\n\u001b[0m\u001b[1;32m      6\u001b[0m             \u001b[0mX\u001b[0m \u001b[0;34m=\u001b[0m \u001b[0mlist\u001b[0m\u001b[0;34m(\u001b[0m\u001b[0mcsv\u001b[0m\u001b[0;34m.\u001b[0m\u001b[0mreader\u001b[0m\u001b[0;34m(\u001b[0m\u001b[0mf\u001b[0m\u001b[0;34m,\u001b[0m \u001b[0mdelimiter\u001b[0m\u001b[0;34m=\u001b[0m\u001b[0;34m\",\"\u001b[0m\u001b[0;34m)\u001b[0m\u001b[0;34m)\u001b[0m\u001b[0;34m\u001b[0m\u001b[0m\n\u001b[1;32m      7\u001b[0m             \u001b[0mX\u001b[0m \u001b[0;34m=\u001b[0m \u001b[0mnp\u001b[0m\u001b[0;34m.\u001b[0m\u001b[0masarray\u001b[0m\u001b[0;34m(\u001b[0m\u001b[0mX\u001b[0m\u001b[0;34m)\u001b[0m\u001b[0;34m\u001b[0m\u001b[0m\n",
      "\u001b[0;31mFileNotFoundError\u001b[0m: [Errno 2] No such file or directory: '../data/Data_2016_I235E/CSVs/20160101Dir1.csv'"
     ]
    }
   ],
   "source": [
    "data = pd.read_csv('../data/'+which_data+'.csv',delimiter=',')\n",
    "_,Traffic = load_data(data)\n",
    "Traffic = np.swapaxes(Traffic,1,2)\n",
    "Raw_Speed = Traffic[:,:,:,0]\n",
    "Speed = convert_zero_2_mean(Raw_Speed)\n",
    "Speed = np.reshape(Speed, (Speed.shape[0],Speed.shape[1], Speed.shape[2]))\n",
    "\n",
    "print(Traffic.shape)\n",
    "print(Raw_Speed.shape)\n",
    "print(Speed.shape)\n",
    "\n",
    "# print(Speed[16,:5,:])\n",
    "# plt.pcolor(Speed[16,:,:],cmap=my_cmap)\n",
    "print(np.count_nonzero(Speed==0))\n",
    "print(np.count_nonzero(np.isnan(Speed)))\n",
    "\n",
    "data['y'][0][:4]\n",
    "data['day'] = data['y'].map(lambda x: x[:8])\n",
    "data['date'] = pd.to_datetime(data['day'],format='%Y%m%d')\n",
    "data['dayofweek'] = data['date'].map(lambda x: x.dayofweek)\n",
    "data['dayofyear'] = data['date'].map(lambda x: x.dayofyear)\n",
    "# del data['day']\n",
    "\n",
    "pickle.dump( (Traffic,Speed,data), open( \"data.p\", \"wb\" ) )"
   ]
  },
  {
   "cell_type": "code",
   "execution_count": 33,
   "metadata": {},
   "outputs": [
    {
     "data": {
      "text/plain": [
       "False"
      ]
     },
     "execution_count": 33,
     "metadata": {},
     "output_type": "execute_result"
    }
   ],
   "source": [
    "os.path.exists('../data/Data_2016_I235E/CSVs/20160101Dir1.csv')"
   ]
  },
  {
   "cell_type": "code",
   "execution_count": null,
   "metadata": {
    "collapsed": true
   },
   "outputs": [],
   "source": []
  }
 ],
 "metadata": {
  "kernelspec": {
   "display_name": "Python 3",
   "language": "python",
   "name": "python3"
  },
  "language_info": {
   "codemirror_mode": {
    "name": "ipython",
    "version": 3
   },
   "file_extension": ".py",
   "mimetype": "text/x-python",
   "name": "python",
   "nbconvert_exporter": "python",
   "pygments_lexer": "ipython3",
   "version": "3.5.3"
  }
 },
 "nbformat": 4,
 "nbformat_minor": 2
}
