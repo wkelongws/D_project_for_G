{
 "cells": [
  {
   "cell_type": "markdown",
   "metadata": {},
   "source": [
    "## Import all the needed libraries:"
   ]
  },
  {
   "cell_type": "code",
   "execution_count": 1,
   "metadata": {
    "collapsed": true
   },
   "outputs": [],
   "source": [
    "from __future__ import print_function, division\n",
    "import os\n",
    "\n",
    "import torch\n",
    "from torch.autograd import Variable\n",
    "import torch.autograd as autograd\n",
    "import torch.nn as nn\n",
    "import torch.nn.functional as F\n",
    "import torch.optim as optim\n",
    "\n",
    "from skimage import io, transform\n",
    "import numpy as np\n",
    "import math\n",
    "import matplotlib.pyplot as plt\n",
    "from torch.utils.data import Dataset, DataLoader\n",
    "from torchvision import transforms, utils\n",
    "import xml.etree.ElementTree as ET\n",
    "from copy import deepcopy\n",
    "import random\n",
    "\n",
    "from moviepy.editor import VideoFileClip,ImageSequenceClip\n",
    "from IPython.display import HTML\n",
    "import matplotlib.image as mpimg\n",
    "\n",
    "from matplotlib.backends.backend_agg import FigureCanvasAgg as FigureCanvas\n",
    "from matplotlib.figure import Figure\n",
    "from mpl_toolkits.mplot3d import Axes3D\n",
    "import pandas as pd\n",
    "import cv2\n",
    "\n",
    "import pickle\n",
    "from pylab import *\n",
    "from matplotlib import gridspec\n",
    "from matplotlib.backends.backend_pdf import PdfPages\n",
    "cdict = {'red': ((0.0, 1.0, 1.0),\n",
    "                 (0.125, 1.0, 1.0),\n",
    "                 (0.25, 1.0, 1.0),\n",
    "                 (0.5625, 1.0, 1.0),\n",
    "                 (1.0, 0.0, 0.0)),\n",
    "         'green': ((0.0, 0.0, 0.0),\n",
    "                   (0.25, 0.0, 0.0),\n",
    "                   (0.5625, 1.0, 1.0),\n",
    "                   (1.0, 1.0, 1.0)),\n",
    "         'blue': ((0.0, 0.0, 0.0),\n",
    "                  (0.5, 0.0, 0.0),\n",
    "                  (1.0, 0.0, 0.0))}\n",
    "my_cmap = matplotlib.colors.LinearSegmentedColormap('my_colormap',cdict,256)\n",
    "\n",
    "%matplotlib inline\n",
    "# %matplotlib notebook"
   ]
  },
  {
   "cell_type": "markdown",
   "metadata": {},
   "source": [
    "## Import, filter and smooth raw data:"
   ]
  },
  {
   "cell_type": "code",
   "execution_count": 127,
   "metadata": {},
   "outputs": [
    {
     "name": "stdout",
     "output_type": "stream",
     "text": [
      "load 2015 data\n",
      "load 2015 data\n"
     ]
    }
   ],
   "source": [
    "which_data = 'Data_2015_DES_I235E'\n",
    "(Traffic_2015,Weather_2015,data_2015) = pickle.load( open(which_data+\".p\", \"rb\" ) )\n",
    "year =  data_2015['y'][0][:4]\n",
    "print('load {} data'.format(year))\n",
    "\n",
    "which_data = 'Data_2016_DES_I235E'\n",
    "(Traffic_2016,Weather_2016,data_2016) = pickle.load( open(which_data+\".p\", \"rb\" ) )\n",
    "year =  data_2016['y'][0][:4]\n",
    "print('load {} data'.format(year))\n",
    "\n"
   ]
  },
  {
   "cell_type": "code",
   "execution_count": 134,
   "metadata": {
    "collapsed": true
   },
   "outputs": [],
   "source": [
    "def replace_nan_with_local_mean(M_3d):\n",
    "    index = np.asarray(np.where(np.isnan(M_3d)))\n",
    "    for i in range(index.shape[1]):\n",
    "        span = 0\n",
    "        historical = M_3d[index[0,i],index[1,i],index[2,i]-span:index[2,i]+1+span]\n",
    "        historical_mean = np.nanmean(historical)\n",
    "        stage_1_flag = True\n",
    "        count = 0 \n",
    "        while (not historical_mean>0) & stage_1_flag:\n",
    "            count+=1\n",
    "            if count > 1000:\n",
    "                print('1st ',count)\n",
    "            if index[0,i]-span<0:\n",
    "                historical = M_3d[0:index[0,i]+1+span+span,index[1,i],index[2,i]]\n",
    "            elif index[0,i]+1+span>M_3d.shape[0]:\n",
    "                historical = M_3d[-1-span-span:,index[1,i],index[2,i]]\n",
    "            else:\n",
    "                historical = M_3d[index[0,i]-span:index[0,i]+1+span,index[1,i],index[2,i]]\n",
    "            historical_mean = np.nanmean(historical)\n",
    "            span+=1\n",
    "            if 2*span>M_3d.shape[0]:\n",
    "                stage_1_flag = False\n",
    "        span = 0\n",
    "        count = 0 \n",
    "        while not historical_mean>0:\n",
    "            count+=1\n",
    "            if count > 1000:\n",
    "                print('2nd ',count)\n",
    "            if index[2,i]-span<0:\n",
    "                historical = M_3d[:,index[1,i],0:index[2,i]+1+span+span]\n",
    "            elif index[2,i]+1+span>M_3d.shape[2]:\n",
    "                historical = M_3d[:,index[1,i],-1-span-span:]\n",
    "            else:\n",
    "                historical = M_3d[:,index[1,i],index[2,i]-span:index[2,i]+1+span]\n",
    "            historical_mean = np.nanmean(historical)\n",
    "            span+=1\n",
    "#         print(historical_mean)\n",
    "\n",
    "        span = 0\n",
    "        count = 0 \n",
    "        local = M_3d[index[0,i],index[1,i],index[2,i]-span:index[2,i]+1+span]\n",
    "        local_mean = np.nanmean(local)\n",
    "        stage_1_flag = True\n",
    "        while (not local_mean>0) & stage_1_flag:\n",
    "            count+=1\n",
    "            if count > 1000:\n",
    "                print('3rd ',count)\n",
    "            if index[2,i]-span<0:\n",
    "                local = M_3d[index[0,i],index[1,i],0:index[2,i]+1+span+span]\n",
    "            elif index[2,i]+1+span>M_3d.shape[2]:\n",
    "                local = M_3d[index[0,i],index[1,i],-1-span-span:]\n",
    "            else:\n",
    "                local = M_3d[index[0,i],index[1,i],index[2,i]-span:index[2,i]+1+span]\n",
    "            local_mean = np.nanmean(local)\n",
    "            span+=1\n",
    "            if 2*span>M_3d.shape[2]:\n",
    "                stage_1_flag = False\n",
    "        \n",
    "        span = 0\n",
    "        count = 0 \n",
    "        while not local_mean>0:\n",
    "            count+=1\n",
    "            if count > 1000:\n",
    "                print('4th ',count)\n",
    "            if index[1,i]-span<0:\n",
    "                local = M_3d[index[0,i],0:index[1,i]+1+span+span,:]\n",
    "            elif index[1,i]+1+span>M_3d.shape[1]:\n",
    "                local = M_3d[index[0,i],-1-span-span:,:]\n",
    "            else:\n",
    "                local = M_3d[index[0,i],index[1,i]-span:index[1,i]+1+span,:]\n",
    "            local_mean = np.nanmean(local)\n",
    "            span+=1\n",
    "        \n",
    "#         print(local_mean)\n",
    "        M_3d[index[0,i],index[1,i],index[2,i]] = 0.7*local_mean + 0.3*historical_mean\n",
    "    return M_3d"
   ]
  },
  {
   "cell_type": "code",
   "execution_count": 189,
   "metadata": {},
   "outputs": [
    {
     "name": "stdout",
     "output_type": "stream",
     "text": [
      "Filter traffic data .....\n",
      "Done\n",
      "Smooth traffic data .....\n",
      "Done\n"
     ]
    }
   ],
   "source": [
    "def volume_smoothing(Volume,top_threshold = 400):\n",
    "    Volume[Volume>top_threshold] = nan\n",
    "    Volume = replace_nan_with_local_mean(Volume)\n",
    "    return Volume\n",
    "\n",
    "def speed_smoothing(Speed,top_threshold = 120):\n",
    "    Speed[Speed>top_threshold] = nan\n",
    "    Speed = replace_nan_with_local_mean(Speed)\n",
    "    Speed[Speed == 0] = nan\n",
    "    Speed = replace_nan_with_local_mean(Speed)\n",
    "    return Speed\n",
    "\n",
    "print('Filter traffic data .....')\n",
    "# Traffic_2015[:,:,:,0] = speed_smoothing(Traffic_2015[:,:,:,0])\n",
    "# Traffic_2015[:,:,:,1] = volume_smoothing(Traffic_2015[:,:,:,1])\n",
    "\n",
    "# Traffic_2016[:,:,:,0] = speed_smoothing(Traffic_2016[:,:,:,0])\n",
    "# Traffic_2016[:,:,:,1] = volume_smoothing(Traffic_2016[:,:,:,1])\n",
    "print('Done')\n",
    "\n",
    "def moving_avg_batch(data,window_length=5):\n",
    "    data_new = np.zeros(data.shape)\n",
    "    for i in range(window_length):\n",
    "        data_shift = np.copy(data)\n",
    "        data_shift[:,:,i:]=data[:,:,:data.shape[2]-i]\n",
    "        data_new += data_shift\n",
    "    return data_new/window_length\n",
    "\n",
    "def data_smoothing_moving_avg(data,window_length=5):\n",
    "    data_new = np.copy(data)\n",
    "    if len(data.shape)==4:\n",
    "        for i in range(data.shape[-1]):\n",
    "            data_new[:,:,:,i] = moving_avg_batch(data[:,:,:,i],window_length=window_length)\n",
    "    if len(data.shape)==3:\n",
    "        data_new = moving_avg_batch(data,window_length=window_length)\n",
    "    return data_new\n",
    "\n",
    "print('Smooth traffic data .....')\n",
    "# Traffic_2015 = data_smoothing_moving_avg(Traffic_2015)\n",
    "# Traffic_2016 = data_smoothing_moving_avg(Traffic_2016)\n",
    "print('Done')\n"
   ]
  },
  {
   "cell_type": "code",
   "execution_count": 137,
   "metadata": {
    "collapsed": true
   },
   "outputs": [],
   "source": [
    "# pickle.dump( (Traffic_2015,Weather_2015,data_2015), open( 'Data_2015_DES_I235E'+'_filter_smooth.p', \"wb\" ) )\n",
    "# pickle.dump( (Traffic_2016,Weather_2016,data_2016), open( 'Data_2016_DES_I235E'+'_filter_smooth.p', \"wb\" ) )"
   ]
  },
  {
   "cell_type": "markdown",
   "metadata": {},
   "source": [
    "## Import saved smoothed data (start from here)"
   ]
  },
  {
   "cell_type": "code",
   "execution_count": 103,
   "metadata": {},
   "outputs": [
    {
     "name": "stdout",
     "output_type": "stream",
     "text": [
      "2015 data loaded\n",
      "2016 data loaded\n"
     ]
    }
   ],
   "source": [
    "which_data = 'Data_2015_DES_I235E'\n",
    "(Traffic_2015,Weather_2015,data_2015) = pickle.load( open(which_data+\"_filter_smooth.p\", \"rb\" ) )\n",
    "year =  data_2015['y'][0][:4]\n",
    "print('{} data loaded'.format(year))\n",
    "\n",
    "which_data = 'Data_2016_DES_I235E'\n",
    "(Traffic_2016,Weather_2016,data_2016) = pickle.load( open(which_data+\"_filter_smooth.p\", \"rb\" ) )\n",
    "year =  data_2016['y'][0][:4]\n",
    "print('{} data loaded'.format(year))\n",
    "\n",
    "data = pd.concat([data_2015,data_2016],ignore_index=True)\n",
    "Traffic = np.concatenate([Traffic_2015, Traffic_2016],axis = 0)\n",
    "Weather_5min = np.concatenate([Weather_2015, Weather_2016],axis = 0)\n",
    "Weather = np.zeros([Weather_5min.shape[0],Weather_5min.shape[1],Weather_5min.shape[2]*5,Weather_5min.shape[3]])\n",
    "for i in range(Weather.shape[2]):\n",
    "    Weather[:,:,i,:] = Weather_5min[:,:,int(i/5),:]\n",
    "Weather = np.delete(Weather,1,axis=3)"
   ]
  },
  {
   "cell_type": "markdown",
   "metadata": {},
   "source": [
    "## Pytorch Data Base\n",
    "* ### Multi-output: each sample includes {'traffic':(15,1439,3),'weather':(15,1439,10),'history':(6,15,1439,3),'label':(15,1439)}\n",
    "* ### Single-output: each sample includes {'traffic':(15,1439,3),'weather':(15,1439,10),'history':(6,15,1439,3),'label':(1439,)}\n",
    "* ### note: in 'history', non-existing days in database are represented in nans"
   ]
  },
  {
   "cell_type": "code",
   "execution_count": 177,
   "metadata": {
    "collapsed": true
   },
   "outputs": [],
   "source": [
    "class LSTM_SpeedPrediction_database_output_single_sensor(Dataset):\n",
    "    def __init__(self, Traffic, Weather, data, transform=None, look_back = 6, target_sensor = 13):\n",
    "\n",
    "        self.Traffic = Traffic\n",
    "        self.Weather = Weather\n",
    "        self.data = data\n",
    "        self.transform = transform\n",
    "        self.look_back = look_back\n",
    "        self.target_sensor = target_sensor\n",
    "#         print(self.__len__())\n",
    "    def __len__(self):\n",
    "        return len(self.data)\n",
    "\n",
    "    def __getitem__(self, idx):\n",
    "        \n",
    "        assert idx < self.__len__(),'idx out of dataset index boundary'\n",
    "        \n",
    "        Traffic_today = self.Traffic[idx,:,:-1,:]\n",
    "        Weather_today = self.Weather[idx,:,:-1,:]\n",
    "        Traffic_history = 0\n",
    "        Traffic_output = self.Traffic[idx,self.target_sensor,1:,0]\n",
    "        \n",
    "        dayofweek = self.data.loc[idx]['dayofweek']\n",
    "        data_sub = self.data[:idx]\n",
    "        sameday_in_history = data_sub.index[data_sub['dlen(sameday_in_history)ayofweek'] == dayofweek].tolist()\n",
    "        \n",
    "        Traffic_history = np.full((self.look_back,)+self.Traffic.shape[1:], np.nan)\n",
    "#         print(len(sameday_in_history))\n",
    "        sameday_in_near_history = sameday_in_history[-self.look_back:]\n",
    "#         print(len(sameday_in_near_history))\n",
    "        \n",
    "        for i in range(len(sameday_in_near_history)):\n",
    "            Traffic_history[i] = self.Traffic[sameday_in_near_history[i]]\n",
    "        \n",
    "        sample = {'traffic': Traffic_today, 'weather': Weather_today, 'history': Traffic_history, 'label': Traffic_output}\n",
    "\n",
    "        if self.transform:\n",
    "            sample = self.transform(sample)\n",
    "        return sample\n",
    "     \n",
    "class LSTM_SpeedPrediction_database_output_multi_sensor(Dataset):\n",
    "    def __init__(self, Traffic, Weather, data, transform=None, look_back = 6):\n",
    "\n",
    "        self.Traffic = Traffic\n",
    "        self.Weather = Weather\n",
    "        self.data = data\n",
    "        self.transform = transform\n",
    "        self.look_back = look_back\n",
    "#         printdb_trans_1 = Dataset_NVIDIA_1(annotation_list,frame_list,transform = PerspectiveTransform(MAP_FILE, world_origin, pixel_ratio, PMAT_FILE))(self.__len__())\n",
    "    def __len__(self):\n",
    "        return len(self.data)\n",
    "\n",
    "    def __getitem__(self, idx):\n",
    "        \n",
    "        assert idx < self.__len__(),'idx out of dataset index boundary'\n",
    "        Traffic_today = self.Traffic[idx,:,:-1,:]\n",
    "        Weather_today = self.Weather[idx,:,:-1,:]\n",
    "        Traffic_history = 0 \n",
    "        Traffic_output = self.Traffic[idx,:,1:,0]\n",
    "        \n",
    "        dayofweek = self.data.loc[idx]['dayofweek']\n",
    "        data_sub = self.data[:idx]\n",
    "        sameday_in_history = data_sub.index[data_sub['dayofweek'] == dayofweek].tolist()\n",
    "        \n",
    "        Traffic_history = np.full((self.look_back,)+self.Traffic.shape[1:], np.nan)\n",
    "#         print(len(sameday_in_history))\n",
    "        sameday_in_near_history = sameday_in_history[-self.look_back:]\n",
    "#         print(len(sameday_in_near_history))\n",
    "        \n",
    "        for i in range(len(sameday_in_near_history)):\n",
    "            Traffic_history[i] = self.Traffic[sameday_in_near_history[i]]\n",
    "        \n",
    "        sample = {'traffic': torch.Tensor(Traffic_today),'weather': torch.Tensor(Weather_today), 'history': torch.Tensor(Traffic_history), 'label': torch.Tensor(Traffic_output)} # \n",
    "\n",
    "        if self.transform:\n",
    "            sample = self.transform(sample)\n",
    "        return sample"
   ]
  },
  {
   "cell_type": "code",
   "execution_count": 178,
   "metadata": {
    "collapsed": true
   },
   "outputs": [],
   "source": [
    "db = LSTM_SpeedPrediction_database_output_multi_sensor(Traffic, Weather, data)"
   ]
  },
  {
   "cell_type": "code",
   "execution_count": 180,
   "metadata": {},
   "outputs": [
    {
     "name": "stdout",
     "output_type": "stream",
     "text": [
      "X                      20161216Dir1.csv\n",
      "y             20161216_Traffic_Dir1.csv\n",
      "day                            20161216\n",
      "date                2016-12-16 00:00:00\n",
      "dayofweek                             4\n",
      "weekofyear                           50\n",
      "month                                12\n",
      "dayofyear                           351\n",
      "Name: 431, dtype: object\n",
      "<class 'torch.FloatTensor'>\n"
     ]
    },
    {
     "data": {
      "image/png": "[encoded data removed]",
      "text/plain": [
       "<matplotlib.figure.Figure at 0x7f86f63c4a58>"
      ]
     },
     "metadata": {},
     "output_type": "display_data"
    }
   ],
   "source": [
    "idx = 431  # test: [417,420,431]\n",
    "print(data.loc[idx])\n",
    "\n",
    "def vis_one_day_traffic_speed(speed):\n",
    "    plt.pcolor(speed,cmap=my_cmap, vmin=20, vmax=70)\n",
    "    \n",
    "# vis_one_day_traffic_speed(db[257]['label'])\n",
    "print(type(db[idx]['traffic']))\n",
    "vis_one_day_traffic_speed(db[idx]['traffic'][:,:,0]) "
   ]
  },
  {
   "cell_type": "code",
   "execution_count": 107,
   "metadata": {
    "collapsed": true
   },
   "outputs": [],
   "source": [
    "# data_test = data.loc[[417,420,431]]\n",
    "# data_test = data_test.reset_index()\n",
    "\n",
    "# data_train = data\n",
    "# data_train = data_train.drop([417,420,431])\n",
    "# data_train = data_train.reset_index()"
   ]
  },
  {
   "cell_type": "markdown",
   "metadata": {},
   "source": [
    "## dataloader: load sample from database in batch\n",
    "\n",
    "## batch added one more dimension to the left\n",
    "\n",
    "## in case of multi-output and batch = 10, each sample:\n",
    "\n",
    "## {'traffic':(10,15,1439,3),'weather':(10,15,1439,10),'history':(10,6,15,1439,3),'label':(10,15,1439)}"
   ]
  },
  {
   "cell_type": "code",
   "execution_count": 181,
   "metadata": {
    "collapsed": true
   },
   "outputs": [],
   "source": [
    "data_train = data[:-30]\n",
    "data_train = data_train.reset_index()\n",
    "\n",
    "data_val = data[-61:]\n",
    "data_val = data_val.reset_index()\n",
    "\n",
    "dataset = {}\n",
    "dataset['train'] = LSTM_SpeedPrediction_database_output_multi_sensor(Traffic[:-30], Weather[:-30], data_train)\n",
    "dataset['val'] = LSTM_SpeedPrediction_database_output_multi_sensor(Traffic[-61:], Weather[-61:], data_val)\n",
    "\n",
    "dataset_sizes = {x: len(dataset[x]) for x in ['train', 'val']}\n",
    "\n",
    "dataloaders = {x: torch.utils.data.DataLoader(dataset[x], batch_size=200,\n",
    "                                             shuffle=True, num_workers=4)\n",
    "              for x in ['train', 'val']}"
   ]
  },
  {
   "cell_type": "code",
   "execution_count": 172,
   "metadata": {},
   "outputs": [],
   "source": [
    "# for sample in dataloaders['train']:\n",
    "#     print('traffic: ',sample['traffic'].shape)\n",
    "#     print('weather: ',sample['weather'].shape)\n",
    "#     print('history: ',sample['history'].shape)\n",
    "#     print('label: ',sample['label'].shape)"
   ]
  },
  {
   "cell_type": "code",
   "execution_count": 173,
   "metadata": {},
   "outputs": [],
   "source": [
    "'''https://github.com/wkelongws/iemgrid'''\n",
    "'''Weather: 0:tmpc 1:dwpc 2:smps 3:drct 4:vsby 5:roadtmpc 6:srad 7:snwd 8:pcpn '''\n",
    "\n",
    "Traffic_max = []\n",
    "Traffic_min = []\n",
    "Weather_max = []\n",
    "Weather_min = []\n",
    "\n",
    "for i in range(Traffic.shape[-1]):\n",
    "#     print(i,'max: ',np.max(Traffic[:,:,:,i]))\n",
    "    Traffic_max.append(np.max(Traffic[:,:,:,i]))\n",
    "#     print(i,'mean: ',np.mean(Traffic[:,:,:,i]))\n",
    "#     print(i,'min: ',np.min(Traffic[:,:,:,i]))\n",
    "    Traffic_min.append(np.min(Traffic[:,:,:,i]))\n",
    "for i in range(Weather.shape[-1]):\n",
    "#     print(i,'max: ',np.max(Weather[:,:,:,i]))\n",
    "    Weather_max.append(np.max(Weather[:,:,:,i]))\n",
    "#     print(i,'mean: ',np.mean(Weather[:,:,:,i]))\n",
    "#     print(i,'min: ',np.min(Weather[:,:,:,i]))\n",
    "    Weather_min.append(np.min(Weather[:,:,:,i]))\n",
    "    \n",
    "Min_Max = (Traffic_max,Traffic_min,Weather_max,Weather_min)"
   ]
  },
  {
   "cell_type": "code",
   "execution_count": 174,
   "metadata": {},
   "outputs": [
    {
     "data": {
      "text/plain": [
       "[-25.0, -29.0, 0.0, 0.0, 0.0, -20.399999999999999, 0.0, 0.0, -36.0]"
      ]
     },
     "execution_count": 174,
     "metadata": {},
     "output_type": "execute_result"
    }
   ],
   "source": [
    "Min_Max[3]"
   ]
  },
  {
   "cell_type": "markdown",
   "metadata": {},
   "source": [
    "## LSTM Prediction Net\n",
    "## Normalization on the fly. Normalize all numbers ~ (0,1)"
   ]
  },
  {
   "cell_type": "code",
   "execution_count": null,
   "metadata": {
    "collapsed": true
   },
   "outputs": [],
   "source": [
    "class LSTM_Short_Term_Speed_Pred_Net(nn.Module):\n",
    "    def __init__(self, input_dim_today, input_dim_history, output_single_sensor = False, \\\n",
    "                 hidden_dim = 16,use_['traffic'].shapegpu = False, use_volume_and_occup = False, \\\n",
    "                 use_weather = False, use_history = True, input_feature = 'raw', Min_Max = Min_Max):\n",
    "        super(LSTM_Short_Term_Speed_Pred_Net, self).__init__()\n",
    "        \n",
    "        self.hidden_dim = hidden_dim\n",
    "        self.input_dim_today = input_dim_today\n",
    "        self.input_dim_history = input_dim_history\n",
    "        self.out_dim = 15\n",
    "        if output_single_sensor:\n",
    "            self.out_dim = out_dim = 1\n",
    "        self.use_gpu = use_gpu\n",
    "        \n",
    "        self.use_volume_and_occup = use_volume_and_occup\n",
    "        self.use_weather = use_weather\n",
    "        self.use_history = use_history\n",
    "        assert input_feature in ['raw','linear','CNN'], 'wrong choice for input_feature'\n",
    "        self.input_feature = input_feature # ['raw','linear','CNN']\n",
    "        \n",
    "        '''for on-fly normalization'''\n",
    "        self.Traffic_max = Min_Max[0]\n",
    "        self.Traffic_min = Min_Max[1]\n",
    "        self.Weather_max = Min_Max[2]\n",
    "        self.Weather_min = Min_Max[3]\n",
    "        \n",
    "        if self.input_feature == 'cnn':\n",
    "            self.CNN_feature_extract = nn.Conv2d(16, 33, (5, 1), stride=(1, 1))\n",
    "            if self.use_volume_and_occup:\n",
    "                self.CNN_feature_extract = nn.Conv2d(16, 33, (5, 3), stride=(1, 1))\n",
    "            if self.use_weather:\n",
    "                self.CNN_feature_extract = nn.Conv2d(16, 33, (5, 12), stride=(1, 1))\n",
    "                \n",
    "        self.lstm_today = nn.LSTMCell(input_dim_today, hidden_dim)\n",
    "        self.lstm_history = nn.LSTMCell(input_dim_history, hidden_dim)\n",
    "        self.linear_out = nn.Linear(hidden_dim, out_dim)\n",
    "        \n",
    "    def init_hidden(self,input_sample):\n",
    "        \n",
    "        batch_size = input_sample['traffic'].shape[0]\n",
    "        if self.use_gpu:\n",
    "            return Variable(torch.zeros(batch_size, self.hidden_dim).cuda(), requires_grad=False)\n",
    "        return Variable(torch.zeros(batch_size, self.hidden_dim), requires_grad=False)\n",
    "\n",
    "    def forward(self, input_sample, future = 0):\n",
    "        \n",
    "        '''reconstruct data from sample'''\n",
    "        traffic = input_sample['traffic']\n",
    "        weather = input_sample['weather']\n",
    "        history = input_sample['history']\n",
    "        label = input_sample['label']\n",
    "        \n",
    "        '''normalize'''\n",
    "        label = (label - self.Traffic_min[0])/(self.Traffic_max[0]-self.Traffic_min[0])\n",
    "        for i in range(traffic.shape[-1]):\n",
    "            traffic[:,:,:,i] = (traffic[:,:,:,i]-self.Traffic_min[i])/(self.Traffic_max[i]-self.Traffic_min[i])\n",
    "            history[:,:,:,:,i] = (history[:,:,:,i]-self.Traffic_min[i])/(self.Traffic_max[i]-self.Traffic_min[i])\n",
    "        for i in range(weather.shape[-1]):\n",
    "            weather[:,:,:,i] = (weather[:,:,:,i]-self.Weather_min[i])/(self.Weather_max[i]-self.Weather_min[i])\n",
    "        \n",
    "        \n",
    "        \n",
    "        outputs = []\n",
    "        hidden_state_today = self.init_hidden(input_sample)\n",
    "        cell_state_today = self.init_hidden(input_sample)\n",
    "        hidden_state_history = self.init_hidden(input_sample)\n",
    "        cell_state_history = self.init_hidden(input_sample)\n",
    "        \n",
    "        for i in range(input.data.shape[0]):\n",
    "            input_t = input[i]\n",
    "#             print('i: ',i)\n",
    "#             print('input_t: ',input_t.data.shape)\n",
    "            h_t, c_t = self.lstm1(input_t, (h_t, c_t))\n",
    "            h_t2, c_t2 = self.lstm2(h_t, (h_t2, c_t2))\n",
    "            output = self.linear(h_t2)\n",
    "            outputs += [output]\n",
    "        for i in range(future):# if we should predict the future\n",
    "            h_t, c_t = self.lstm1(output, (h_t, c_t))\n",
    "            h_t2, c_t2 = self.lstm2(h_t, (h_t2, c_t2))\n",
    "            output = self.linear(h_t2)\n",
    "            outputs += [output]\n",
    "        outputs = torch.stack(outputs, 1).squeeze(2)\n",
    "#         print('outputs.data.shape: ',outputs.data.shape)\n",
    "        return outputs"
   ]
  },
  {
   "cell_type": "code",
   "execution_count": null,
   "metadata": {
    "collapsed": true
   },
   "outputs": [],
   "source": []
  },
  {
   "cell_type": "code",
   "execution_count": 193,
   "metadata": {},
   "outputs": [
    {
     "name": "stdout",
     "output_type": "stream",
     "text": [
      "<class 'torch.FloatTensor'>\n",
      "traffic:  torch.Size([200, 15, 1439, 3])\n",
      "weather:  torch.Size([200, 15, 1439, 9])\n",
      "history:  torch.Size([200, 6, 15, 1440, 3])\n",
      "label:  torch.Size([200, 15, 1439])\n",
      "<class 'torch.FloatTensor'>\n",
      "traffic:  torch.Size([200, 15, 1439, 3])\n",
      "weather:  torch.Size([200, 15, 1439, 9])\n",
      "history:  torch.Size([200, 6, 15, 1440, 3])\n",
      "label:  torch.Size([200, 15, 1439])\n",
      "<class 'torch.FloatTensor'>\n",
      "traffic:  torch.Size([17, 15, 1439, 3])\n",
      "weather:  torch.Size([17, 15, 1439, 9])\n",
      "history:  torch.Size([17, 6, 15, 1440, 3])\n",
      "label:  torch.Size([17, 15, 1439])\n"
     ]
    }
   ],
   "source": [
    "for sample in dataloaders['train']:\n",
    "#     b = sample['traffic'].shape\n",
    "    print(type(sample['traffic']))\n",
    "    print('traffic: ',sample['traffic'].shape)\n",
    "    print('weather: ',sample['weather'].shape)\n",
    "    print('history: ',sample['history'].shape)\n",
    "    print('label: ',sample['label'].shape)"
   ]
  },
  {
   "cell_type": "code",
   "execution_count": 189,
   "metadata": {},
   "outputs": [
    {
     "data": {
      "text/plain": [
       "\n",
       "(0 ,.,.) = \n",
       "  1  2\n",
       "  3  4\n",
       "\n",
       "(1 ,.,.) = \n",
       "  2  5\n",
       "  6  8\n",
       "[torch.FloatTensor of size 2x2x2]"
      ]
     },
     "execution_count": 189,
     "metadata": {},
     "output_type": "execute_result"
    }
   ],
   "source": [
    "a = torch.from_numpy(np.array([[[1,2],[3,4]],[[2,5],[6,8]]])).float()\n",
    "a"
   ]
  },
  {
   "cell_type": "code",
   "execution_count": 192,
   "metadata": {},
   "outputs": [
    {
     "data": {
      "text/plain": [
       "\n",
       "(0 ,.,.) = \n",
       "  0.0000  0.1429\n",
       "  0.2857  0.4286\n",
       "\n",
       "(1 ,.,.) = \n",
       "  0.1429  0.5714\n",
       "  0.7143  1.0000\n",
       "[torch.FloatTensor of size 2x2x2]"
      ]
     },
     "execution_count": 192,
     "metadata": {},
     "output_type": "execute_result"
    }
   ],
   "source": [
    "(a-1)/(8-1)"
   ]
  },
  {
   "cell_type": "code",
   "execution_count": 140,
   "metadata": {},
   "outputs": [
    {
     "name": "stdout",
     "output_type": "stream",
     "text": [
      "torch.Size([20, 16, 50, 100])\n",
      "torch.Size([20, 33, 26, 100])\n"
     ]
    }
   ],
   "source": [
    "m = nn.Conv2d(16, 33, (3, 5), stride=(2, 1), padding=(4, 2), dilation=(3, 1))\n",
    "input = autograd.Variable(torch.randn(20, 16, 50, 100))\n",
    "output = m(input)\n",
    "print(input.shape)\n",
    "print(output.shape)"
   ]
  },
  {
   "cell_type": "code",
   "execution_count": 146,
   "metadata": {},
   "outputs": [
    {
     "data": {
      "text/plain": [
       "torch.autograd.variable.Variable"
      ]
     },
     "execution_count": 146,
     "metadata": {},
     "output_type": "execute_result"
    }
   ],
   "source": [
    "\n",
    "input =  Variable(torch.from_numpy(np.zeros((10,1,15,15))))\n",
    "type(input)"
   ]
  },
  {
   "cell_type": "code",
   "execution_count": 156,
   "metadata": {},
   "outputs": [
    {
     "data": {
      "text/plain": [
       "torch.DoubleTensor"
      ]
     },
     "execution_count": 156,
     "metadata": {},
     "output_type": "execute_result"
    }
   ],
   "source": [
    "type(torch.from_numpy(np.random.randn(10,1,15,15)))"
   ]
  },
  {
   "cell_type": "code",
   "execution_count": 160,
   "metadata": {},
   "outputs": [
    {
     "name": "stdout",
     "output_type": "stream",
     "text": [
      "torch.Size([10, 1, 15, 3])\n",
      "torch.Size([10, 3, 11, 1])\n"
     ]
    }
   ],
   "source": [
    "input =  Variable(torch.from_numpy(np.random.randn(10,1,15,3)).float())\n",
    "cnn = nn.Conv2d(1, 3, (5, 3), stride=(1, 1))\n",
    "output = cnn(input)\n",
    "print(input.shape)\n",
    "print(output.shape)"
   ]
  },
  {
   "cell_type": "code",
   "execution_count": null,
   "metadata": {
    "collapsed": true
   },
   "outputs": [],
   "source": [
    "def customized_loss(preds, targets):\n",
    "    \n",
    "    preds = preds.view(preds.data.shape[0]*preds.data.shape[1],-1)\n",
    "    targets = targets.view(targets.data.shape[0]*targets.data.shape[1],-1)\n",
    "    \n",
    "    pdist = nn.PairwiseDistance(p=2)\n",
    "    \n",
    "    output = pdist(preds, targets)\n",
    "\n",
    "    loss = sum(output)/output.data.shape[0]\n",
    "    \n",
    "    return loss"
   ]
  },
  {
   "cell_type": "code",
   "execution_count": null,
   "metadata": {
    "collapsed": true
   },
   "outputs": [],
   "source": [
    "use_gpu = torch.cuda.is_available()\n",
    "# use_gpu = False\n",
    "\n",
    "model = LSTM_perVehiclePrediction_Net(hidden_dim = 51, traj_dim = 2, use_gpu = use_gpu)\n",
    "\n",
    "if use_gpu:\n",
    "    model = model.cuda()\n",
    "\n",
    "criterion = nn.MSELoss()\n",
    "\n",
    "optimizer = optim.Adam(model.parameters())\n",
    "\n",
    "# Decay LR by a factor of 0.1 every 7 epochs\n",
    "# exp_lr_scheduler = lr_scheduler.StepLR(optimizer_ft, step_size=7, gamma=0.1)"
   ]
  },
  {
   "cell_type": "code",
   "execution_count": null,
   "metadata": {
    "collapsed": true
   },
   "outputs": [],
   "source": [
    "def train_LSTM_perVehiclePrediction_Net(model,dataloaders, criterion, optimizer, dataset_sizes, num_epochs=10):\n",
    "    since = time.time()\n",
    "#     timeSince(since)\n",
    "    best_model_wts = model.state_dict()\n",
    "    best_loss = 100000\n",
    "\n",
    "    for epoch in range(num_epochs):\n",
    "        print('Epoch {}/{}'.format(epoch, num_epochs - 1))\n",
    "        print('-' * 10)\n",
    "\n",
    "        # Each epoch has a training and validation phase\n",
    "        for phase in ['train', 'val']:\n",
    "            if phase == 'train':\n",
    "                model.train(True)  # Set model to training mode\n",
    "            else:\n",
    "                model.train(False)  # Set model to evaluate mode\n",
    "\n",
    "            running_loss = 0.0\n",
    "            running_corrects = 0\n",
    "\n",
    "            # Iterate over data.\n",
    "            for data in dataloaders[phase]:\n",
    "#                 print(data)\n",
    "                # get the inputs\n",
    "                inputs = data['traj']\n",
    "                labels = data['target']\n",
    "                inputs = inputs.permute(1,0,2)\n",
    "#                 print('labels.shape: ',labels.shape)\n",
    "                # wrap them in Variable\n",
    "                if use_gpu:\n",
    "                    inputs = Variable(inputs.cuda())\n",
    "                    labels = Variable(labels.cuda())model_ft = train_LSTM_perVehiclePrediction_Net(model,dataloaders, criterion, optimizer, dataset_sizes, num_epochs=2000)\n",
    "                else:\n",
    "                    inputs, labels = Variable(inputs), Variable(labels)\n",
    "\n",
    "                # zero the parameter gradients\n",
    "                model.zero_grad()\n",
    "                optimizer.zero_grad()\n",
    "                \n",
    "                # Also, we need to clear out the hidden state of the LSTM,\n",
    "                # detaching it from its history on the last instance.\n",
    "#                 model.hidden = model.init_hidden()\n",
    "                \n",
    "                # forward\n",
    "                outputs = model(inputs)\n",
    "                \n",
    "                # loss function\n",
    "                loss = customized_loss(outputs, labels)\n",
    "#                 loss = criterion(outputs, labels)\n",
    "\n",
    "                # backward + optimize only if in training phase\n",
    "                if phase == 'train':\n",
    "                    loss.backward()\n",
    "                    optimizer.step()\n",
    "\n",
    "                # statistics\n",
    "                running_loss += loss.data[0]\n",
    "\n",
    "            epoch_loss = running_loss / dataset_sizes[phase]\n",
    "\n",
    "            print('{} Loss: {:.4f} total elapsed time: {}'.format(phase, epoch_loss, timeSince(since)))\n",
    "\n",
    "            # deep copy the model\n",
    "            if phase == 'val' and epoch_loss < best_loss:\n",
    "                best_loss = epoch_loss\n",
    "                best_model_wts = model.state_dict()\n",
    "                torch.save(best_model_wts, 'Best_LSTM_Weights')\n",
    "                print('Weights saved to \"Best_LSTM_Weights\"')\n",
    "\n",
    "        print()\n",
    "\n",
    "    print('Training complete in {}'.format(timeSince(since)))\n",
    "    print('Best val loss: {:4f}'.format(best_loss))\n",
    "    \n",
    "    # load best model weights\n",
    "    model.load_state_dict(best_model_wts)\n",
    "    torch.save(model, 'Model_with_Best_LSTM_Weights')\n",
    "    print('Model saved to \"Model_with_Best_LSTM_Weights\"')\n",
    "    return model"
   ]
  },
  {
   "cell_type": "code",
   "execution_count": null,
   "metadata": {
    "collapsed": true
   },
   "outputs": [],
   "source": [
    "model_ft = train_LSTM_perVehiclePrediction_Net(model,dataloaders, criterion, optimizer, dataset_sizes, num_epochs=2000)"
   ]
  }
 ],
 "metadata": {
  "kernelspec": {
   "display_name": "Python 3",
   "language": "python",
   "name": "python3"
  },
  "language_info": {
   "codemirror_mode": {
    "name": "ipython",
    "version": 3
   },
   "file_extension": ".py",
   "mimetype": "text/x-python",
   "name": "python",
   "nbconvert_exporter": "python",
   "pygments_lexer": "ipython3",
   "version": "3.5.4"
  }
 },
 "nbformat": 4,
 "nbformat_minor": 2
}
